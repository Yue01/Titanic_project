{
 "cells": [
  {
   "cell_type": "code",
   "execution_count": 13,
   "metadata": {
    "collapsed": false
   },
   "outputs": [
    {
     "name": "stdout",
     "output_type": "stream",
     "text": [
      "Collecting scikit-learn\n",
      "  Using cached https://files.pythonhosted.org/packages/34/e7/a77db28ae842d39c643ff233c19646fd5aba0216ca25911ca0b2720ea448/scikit_learn-0.19.1-cp27-cp27m-win_amd64.whl\n",
      "Installing collected packages: scikit-learn\n"
     ]
    },
    {
     "name": "stderr",
     "output_type": "stream",
     "text": [
      "Could not install packages due to an EnvironmentError: [Errno 13] Permission denied: 'c:\\\\users\\\\qycse\\\\anaconda2\\\\Lib\\\\site-packages\\\\sklearn\\\\ensemble\\\\_gradient_boosting.pyd'\n",
      "Consider using the `--user` option or check the permissions.\n",
      "\n"
     ]
    }
   ],
   "source": [
    "!pip install --ignore-installed scikit-learn"
   ]
  },
  {
   "cell_type": "code",
   "execution_count": 14,
   "metadata": {
    "collapsed": false
   },
   "outputs": [
    {
     "ename": "SyntaxError",
     "evalue": "invalid syntax (<ipython-input-14-de3ba8fd38ba>, line 1)",
     "output_type": "error",
     "traceback": [
      "\u001b[1;36m  File \u001b[1;32m\"<ipython-input-14-de3ba8fd38ba>\"\u001b[1;36m, line \u001b[1;32m1\u001b[0m\n\u001b[1;33m    conda update --ignore-installed scikit-learn\u001b[0m\n\u001b[1;37m               ^\u001b[0m\n\u001b[1;31mSyntaxError\u001b[0m\u001b[1;31m:\u001b[0m invalid syntax\n"
     ]
    }
   ],
   "source": [
    "conda update --ignore-installed scikit-learn"
   ]
  },
  {
   "cell_type": "code",
   "execution_count": 15,
   "metadata": {
    "collapsed": false
   },
   "outputs": [
    {
     "name": "stderr",
     "output_type": "stream",
     "text": [
      "Traceback (most recent call last):\n",
      "  File \"C:\\Users\\QYCSE\\Anaconda2\\Scripts\\conda-script.py\", line 5, in <module>\n",
      "    sys.exit(main())\n",
      "  File \"C:\\Users\\QYCSE\\Anaconda2\\lib\\site-packages\\conda\\cli\\main.py\", line 99, in main\n",
      "    from conda.cli import main_search\n",
      "  File \"C:\\Users\\QYCSE\\Anaconda2\\lib\\site-packages\\conda\\cli\\main_search.py\", line 12, in <module>\n",
      "    from conda.misc import make_icon_url\n",
      "  File \"C:\\Users\\QYCSE\\Anaconda2\\lib\\site-packages\\conda\\misc.py\", line 19, in <module>\n",
      "    from conda.api import get_index\n",
      "  File \"C:\\Users\\QYCSE\\Anaconda2\\lib\\site-packages\\conda\\api.py\", line 9, in <module>\n",
      "    from conda.fetch import fetch_index\n",
      "  File \"C:\\Users\\QYCSE\\Anaconda2\\lib\\site-packages\\conda\\fetch.py\", line 24, in <module>\n",
      "    from conda.connection import CondaSession, unparse_url, RETRIES\n",
      "  File \"C:\\Users\\QYCSE\\Anaconda2\\lib\\site-packages\\conda\\connection.py\", line 24, in <module>\n",
      "    import requests\n",
      "  File \"C:\\Users\\QYCSE\\Anaconda2\\lib\\site-packages\\requests\\__init__.py\", line 58, in <module>\n",
      "    from . import utils\n",
      "  File \"C:\\Users\\QYCSE\\Anaconda2\\lib\\site-packages\\requests\\utils.py\", line 23, in <module>\n",
      "    from .compat import parse_http_list as _parse_list_header\n",
      "  File \"C:\\Users\\QYCSE\\Anaconda2\\lib\\site-packages\\requests\\compat.py\", line 7, in <module>\n",
      "    from .packages import charade as chardet\n",
      "  File \"C:\\Users\\QYCSE\\Anaconda2\\lib\\site-packages\\requests\\packages\\__init__.py\", line 3, in <module>\n",
      "    from . import urllib3\n",
      "  File \"C:\\Users\\QYCSE\\Anaconda2\\lib\\site-packages\\requests\\packages\\urllib3\\__init__.py\", line 16, in <module>\n",
      "    from .connectionpool import (\n",
      "  File \"C:\\Users\\QYCSE\\Anaconda2\\lib\\site-packages\\requests\\packages\\urllib3\\connectionpool.py\", line 60, in <module>\n",
      "    from .response import HTTPResponse\n",
      "  File \"C:\\Users\\QYCSE\\Anaconda2\\lib\\site-packages\\requests\\packages\\urllib3\\response.py\", line 14, in <module>\n",
      "    from .util import is_fp_closed\n",
      "  File \"C:\\Users\\QYCSE\\Anaconda2\\lib\\site-packages\\requests\\packages\\urllib3\\util\\__init__.py\", line 5, in <module>\n",
      "    from .response import is_fp_closed\n",
      "  File \"C:\\Users\\QYCSE\\Anaconda2\\lib\\site-packages\\requests\\packages\\urllib3\\util\\response.py\", line 4, in <module>\n",
      "    from ..exceptions import HeaderParsingError\n",
      "ImportError: cannot import name HeaderParsingError\n"
     ]
    }
   ],
   "source": [
    "!conda update --ignore-installed scikit-learn"
   ]
  },
  {
   "cell_type": "code",
   "execution_count": 16,
   "metadata": {
    "collapsed": false
   },
   "outputs": [
    {
     "name": "stdout",
     "output_type": "stream",
     "text": [
      "Collecting requests\n",
      "  Using cached https://files.pythonhosted.org/packages/65/47/7e02164a2a3db50ed6d8a6ab1d6d60b69c4c3fdf57a284257925dfc12bda/requests-2.19.1-py2.py3-none-any.whl\n",
      "Collecting idna<2.8,>=2.5 (from requests)\n",
      "  Using cached https://files.pythonhosted.org/packages/4b/2a/0276479a4b3caeb8a8c1af2f8e4355746a97fab05a372e4a2c6a6b876165/idna-2.7-py2.py3-none-any.whl\n",
      "Collecting urllib3<1.24,>=1.21.1 (from requests)\n",
      "  Using cached https://files.pythonhosted.org/packages/bd/c9/6fdd990019071a4a32a5e7cb78a1d92c53851ef4f56f62a3486e6a7d8ffb/urllib3-1.23-py2.py3-none-any.whl\n",
      "Collecting chardet<3.1.0,>=3.0.2 (from requests)\n",
      "  Using cached https://files.pythonhosted.org/packages/bc/a9/01ffebfb562e4274b6487b4bb1ddec7ca55ec7510b22e4c51f14098443b8/chardet-3.0.4-py2.py3-none-any.whl\n",
      "Collecting certifi>=2017.4.17 (from requests)\n",
      "  Using cached https://files.pythonhosted.org/packages/7c/e6/92ad559b7192d846975fc916b65f667c7b8c3a32bea7372340bfe9a15fa5/certifi-2018.4.16-py2.py3-none-any.whl\n",
      "Installing collected packages: idna, urllib3, chardet, certifi, requests\n",
      "  Found existing installation: idna 2.0\n",
      "    Uninstalling idna-2.0:\n",
      "      Successfully uninstalled idna-2.0\n",
      "  Found existing installation: requests 2.0.0\n",
      "    Uninstalling requests-2.0.0:\n",
      "      Successfully uninstalled requests-2.0.0\n",
      "Successfully installed certifi-2018.4.16 chardet-3.0.4 idna-2.7 requests-2.19.1 urllib3-1.23\n"
     ]
    },
    {
     "name": "stderr",
     "output_type": "stream",
     "text": [
      "device 0.1 has requirement requests==2.0.0, but you'll have requests 2.19.1 which is incompatible.\n"
     ]
    }
   ],
   "source": [
    "!pip install --upgrade requests"
   ]
  },
  {
   "cell_type": "code",
   "execution_count": 17,
   "metadata": {
    "collapsed": false
   },
   "outputs": [
    {
     "name": "stderr",
     "output_type": "stream",
     "text": [
      "C:\\Users\\QYCSE\\Anaconda2\\lib\\site-packages\\requests\\__init__.py:83: RequestsDependencyWarning: Old version of cryptography ([1, 3]) may cause slowdown.\n",
      "  warnings.warn(warning, RequestsDependencyWarning)\n",
      "usage: conda-script.py [-h] [-V] [--debug] command ...\n",
      "conda-script.py: error: unrecognized arguments: --ignore-installed\n"
     ]
    }
   ],
   "source": [
    "!conda update --ignore-installed scikit-learn"
   ]
  },
  {
   "cell_type": "code",
   "execution_count": null,
   "metadata": {
    "collapsed": true
   },
   "outputs": [],
   "source": [
    "!conda update scikit-learn"
   ]
  },
  {
   "cell_type": "code",
   "execution_count": null,
   "metadata": {
    "collapsed": true
   },
   "outputs": [],
   "source": []
  }
 ],
 "metadata": {
  "kernelspec": {
   "display_name": "Python 2",
   "language": "python",
   "name": "python2"
  },
  "language_info": {
   "codemirror_mode": {
    "name": "ipython",
    "version": 2
   },
   "file_extension": ".py",
   "mimetype": "text/x-python",
   "name": "python",
   "nbconvert_exporter": "python",
   "pygments_lexer": "ipython2",
   "version": "2.7.13"
  }
 },
 "nbformat": 4,
 "nbformat_minor": 0
}
